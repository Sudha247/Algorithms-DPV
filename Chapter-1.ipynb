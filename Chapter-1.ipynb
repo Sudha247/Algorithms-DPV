{
 "cells": [
  {
   "cell_type": "markdown",
   "metadata": {},
   "source": [
    "# Chapter 1\n",
    "\n",
    "## Algorithms with Numbers\n",
    "\n",
    "Focus of this chapter: **Factoring and Primality**\n",
    "\n",
    "**1.1.1 Addition** Time Complexity: **O(n)** n --> number of bits in input.\n",
    "\n",
    "**1.1.2 Multiplication and Division** \n",
    "*Multiplication:* Grade school algo gives: O(n^2)\n",
    "But this can be further optimized.\n"
   ]
  },
  {
   "cell_type": "code",
   "execution_count": 1,
   "metadata": {},
   "outputs": [],
   "source": [
    "def mult(x,y):\n",
    "    if(y == 0):\n",
    "        return 0\n",
    "    z = mult(x, y//2)\n",
    "    if(y % 2 == 0):\n",
    "        return 2*z\n",
    "    return x + 2 * z"
   ]
  },
  {
   "cell_type": "code",
   "execution_count": 2,
   "metadata": {},
   "outputs": [
    {
     "data": {
      "text/plain": [
       "40"
      ]
     },
     "execution_count": 2,
     "metadata": {},
     "output_type": "execute_result"
    }
   ],
   "source": [
    "mult(5,8)"
   ]
  },
  {
   "cell_type": "markdown",
   "metadata": {},
   "source": [
    "The algorithm takes *n* recursive calls. The total time taken is O(n^2).\n",
    "\n",
    "Next we use a similar algorithm for division;\n",
    "Unsurprisingly, this algorith has a time complexity of O(n^2)."
   ]
  },
  {
   "cell_type": "code",
   "execution_count": 5,
   "metadata": {},
   "outputs": [],
   "source": [
    "def div(x,y):\n",
    "    if(x == 0):\n",
    "        return (0, 0)\n",
    "    (q,r) = div(x//2, y)\n",
    "    q = 2*q\n",
    "    r = 2*r\n",
    "    if(x % 2 == 1):\n",
    "        r = r +1\n",
    "    if(r > y):\n",
    "        r = r - y\n",
    "        q = q + 1\n",
    "    return (q,r)"
   ]
  },
  {
   "cell_type": "code",
   "execution_count": 6,
   "metadata": {},
   "outputs": [
    {
     "data": {
      "text/plain": [
       "(1, 3)"
      ]
     },
     "execution_count": 6,
     "metadata": {},
     "output_type": "execute_result"
    }
   ],
   "source": [
    "div(8,5)"
   ]
  },
  {
   "cell_type": "markdown",
   "metadata": {},
   "source": [
    "**1.2 Modular Arithmetic**\n",
    "\n",
    "It is system for dealing with restricted ranges of integers. Modular addition and multiplication are pretty straightforward. \n",
    "\n",
    "**1.2.2 Modular Exponentiation**\n",
    "\n",
    "x^y mod N"
   ]
  },
  {
   "cell_type": "code",
   "execution_count": 11,
   "metadata": {},
   "outputs": [],
   "source": [
    "def modexp(x, y, N):\n",
    "    if(y == 0):\n",
    "        return 1\n",
    "    z = modexp(x, y//2, N)\n",
    "    if(y%2 == 0):\n",
    "        return z*z % N\n",
    "    else:\n",
    "        return x*z**2 % N"
   ]
  },
  {
   "cell_type": "code",
   "execution_count": 12,
   "metadata": {},
   "outputs": [
    {
     "data": {
      "text/plain": [
       "64"
      ]
     },
     "execution_count": 12,
     "metadata": {},
     "output_type": "execute_result"
    }
   ],
   "source": [
    "modexp(5,100,69)"
   ]
  },
  {
   "cell_type": "markdown",
   "metadata": {},
   "source": [
    "**Euclid's Algorithm for GCD**\n",
    "\n",
    "This is a classic algorithm used to find the GCD of two numbers. \n",
    "Grade school method is to factorize the two numbers and find the common factors.\n",
    "But *Euclid's Algorithm* uses a simple formula as shown below; \n",
    "**Time Complexity:** O(n^2)"
   ]
  },
  {
   "cell_type": "code",
   "execution_count": 15,
   "metadata": {},
   "outputs": [],
   "source": [
    "def euclid(x, y):\n",
    "    if(y == 0):\n",
    "        return x\n",
    "    return euclid(y, x%y)"
   ]
  },
  {
   "cell_type": "code",
   "execution_count": 16,
   "metadata": {},
   "outputs": [
    {
     "data": {
      "text/plain": [
       "50"
      ]
     },
     "execution_count": 16,
     "metadata": {},
     "output_type": "execute_result"
    }
   ],
   "source": [
    "euclid(100,50)"
   ]
  },
  {
   "cell_type": "markdown",
   "metadata": {},
   "source": [
    "**1.2.4 Extended Euclid's Algorithm**\n",
    "\n"
   ]
  }
 ],
 "metadata": {
  "kernelspec": {
   "display_name": "Python 3",
   "language": "python",
   "name": "python3"
  },
  "language_info": {
   "codemirror_mode": {
    "name": "ipython",
    "version": 3
   },
   "file_extension": ".py",
   "mimetype": "text/x-python",
   "name": "python",
   "nbconvert_exporter": "python",
   "pygments_lexer": "ipython3",
   "version": "3.6.6"
  }
 },
 "nbformat": 4,
 "nbformat_minor": 2
}
