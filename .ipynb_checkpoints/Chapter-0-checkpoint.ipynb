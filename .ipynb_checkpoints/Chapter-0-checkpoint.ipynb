{
 "cells": [
  {
   "cell_type": "markdown",
   "metadata": {},
   "source": [
    "# Chapter 0\n",
    "### Prologue\n",
    "\n",
    "This is my attempt to implement the algorithms described in the book \"Algorithms by Dasgupta, Papadimitriou and Vazirani\".\n",
    "\n",
    "\n",
    "**1. Fibonacci Recursive Algorithm**"
   ]
  },
  {
   "cell_type": "code",
   "execution_count": 1,
   "metadata": {},
   "outputs": [],
   "source": [
    "def fibrec(n):\n",
    "    if(n == 0):\n",
    "        return 0\n",
    "    if(n == 1):\n",
    "        return 1\n",
    "    return fibrec(n-1) + fibrec(n-2)"
   ]
  },
  {
   "cell_type": "code",
   "execution_count": 2,
   "metadata": {},
   "outputs": [
    {
     "data": {
      "text/plain": [
       "6765"
      ]
     },
     "execution_count": 2,
     "metadata": {},
     "output_type": "execute_result"
    }
   ],
   "source": [
    "fibrec(20)"
   ]
  },
  {
   "cell_type": "markdown",
   "metadata": {},
   "source": [
    "**Time Complexity: O(n)**\n",
    "\n",
    "Clearly, this isn't very efficient. So, we will devise a polynomial time algorithm for finding Fibonacci numbers.\n",
    "\n",
    "**2. Fibonacci DP**"
   ]
  },
  {
   "cell_type": "code",
   "execution_count": 9,
   "metadata": {},
   "outputs": [],
   "source": [
    "def fibdp(n):\n",
    "    if(n == 0):\n",
    "        return 0\n",
    "    f = []\n",
    "    f.append(0)\n",
    "    f.append(1)\n",
    "    for i in range(2,n+1):\n",
    "        f.append(f[i-1] + f[i-2])\n",
    "    return f[n]"
   ]
  },
  {
   "cell_type": "code",
   "execution_count": 11,
   "metadata": {},
   "outputs": [
    {
     "data": {
      "text/plain": [
       "6765"
      ]
     },
     "execution_count": 11,
     "metadata": {},
     "output_type": "execute_result"
    }
   ],
   "source": [
    "fibdp(20)"
   ]
  },
  {
   "cell_type": "markdown",
   "metadata": {},
   "source": [
    "This chapter doesn't have any concrete topics introduced as such, except for Time complexity Analysis. \n",
    "*Note to self:* Try solving the exercise problems.\n",
    "\n",
    "**NOTES**\n",
    "\n",
    "The recursive algorithm grows exponentially, meaning the time complexity is **O(2^n)**.\n",
    "Wheras storing the values in an array brings down the complexity to **O(n)**\n",
    "\n",
    "There can be another approach where we save only the previous two values which are relevant to the current fib value. The implementation goes something like this;"
   ]
  },
  {
   "cell_type": "code",
   "execution_count": 12,
   "metadata": {},
   "outputs": [],
   "source": [
    "def fibtemp(n):\n",
    "    if(n == 0):\n",
    "        return 0\n",
    "    temp1 = 0\n",
    "    temp2 = 1\n",
    "    for i in range(2, n+1):\n",
    "        temp1, temp2 = temp2, temp1 + temp2\n",
    "    return temp2"
   ]
  },
  {
   "cell_type": "code",
   "execution_count": 14,
   "metadata": {},
   "outputs": [
    {
     "data": {
      "text/plain": [
       "1"
      ]
     },
     "execution_count": 14,
     "metadata": {},
     "output_type": "execute_result"
    }
   ],
   "source": [
    "fibtemp(2)"
   ]
  },
  {
   "cell_type": "code",
   "execution_count": 15,
   "metadata": {},
   "outputs": [
    {
     "data": {
      "text/plain": [
       "6765"
      ]
     },
     "execution_count": 15,
     "metadata": {},
     "output_type": "execute_result"
    }
   ],
   "source": [
    "fibtemp(20)"
   ]
  },
  {
   "cell_type": "code",
   "execution_count": null,
   "metadata": {},
   "outputs": [],
   "source": []
  }
 ],
 "metadata": {
  "kernelspec": {
   "display_name": "Python 3",
   "language": "python",
   "name": "python3"
  },
  "language_info": {
   "codemirror_mode": {
    "name": "ipython",
    "version": 3
   },
   "file_extension": ".py",
   "mimetype": "text/x-python",
   "name": "python",
   "nbconvert_exporter": "python",
   "pygments_lexer": "ipython3",
   "version": "3.6.6"
  }
 },
 "nbformat": 4,
 "nbformat_minor": 2
}
